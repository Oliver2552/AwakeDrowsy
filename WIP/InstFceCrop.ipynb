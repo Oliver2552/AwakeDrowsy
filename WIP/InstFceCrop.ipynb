{
 "cells": [
  {
   "cell_type": "markdown",
   "metadata": {},
   "source": [
    "# **`Cropping and Labelling Images Using InsightFace`**"
   ]
  },
  {
   "cell_type": "code",
   "execution_count": 2,
   "metadata": {},
   "outputs": [],
   "source": [
    "import numpy as np\n",
    "import warnings\n",
    "import os\n",
    "import cv2\n",
    "import matplotlib.pyplot as plt\n",
    "from insightface.app import FaceAnalysis"
   ]
  },
  {
   "cell_type": "code",
   "execution_count": 3,
   "metadata": {},
   "outputs": [
    {
     "data": {
      "text/plain": [
       "'/Users/oscaramirmansour/AwakeDrowsyObjDetec'"
      ]
     },
     "execution_count": 3,
     "metadata": {},
     "output_type": "execute_result"
    }
   ],
   "source": [
    "os.getcwd()"
   ]
  },
  {
   "cell_type": "code",
   "execution_count": 4,
   "metadata": {},
   "outputs": [],
   "source": [
    "# Suppress the FutureWarning from insightface.utils.transform\n",
    "warnings.filterwarnings(\"ignore\", category=FutureWarning)"
   ]
  },
  {
   "cell_type": "markdown",
   "metadata": {},
   "source": [
    "Initialising FaceAnalysis"
   ]
  },
  {
   "cell_type": "code",
   "execution_count": 8,
   "metadata": {},
   "outputs": [
    {
     "name": "stdout",
     "output_type": "stream",
     "text": [
      "Applied providers: ['CPUExecutionProvider'], with options: {'CPUExecutionProvider': {}}\n",
      "find model: /Users/oscaramirmansour/.insightface/models/buffalo_l/1k3d68.onnx landmark_3d_68 ['None', 3, 192, 192] 0.0 1.0\n",
      "Applied providers: ['CPUExecutionProvider'], with options: {'CPUExecutionProvider': {}}\n",
      "find model: /Users/oscaramirmansour/.insightface/models/buffalo_l/2d106det.onnx landmark_2d_106 ['None', 3, 192, 192] 0.0 1.0\n",
      "Applied providers: ['CPUExecutionProvider'], with options: {'CPUExecutionProvider': {}}\n",
      "find model: /Users/oscaramirmansour/.insightface/models/buffalo_l/det_10g.onnx detection [1, 3, '?', '?'] 127.5 128.0\n",
      "Applied providers: ['CPUExecutionProvider'], with options: {'CPUExecutionProvider': {}}\n",
      "find model: /Users/oscaramirmansour/.insightface/models/buffalo_l/genderage.onnx genderage ['None', 3, 96, 96] 0.0 1.0\n",
      "Applied providers: ['CPUExecutionProvider'], with options: {'CPUExecutionProvider': {}}\n",
      "find model: /Users/oscaramirmansour/.insightface/models/buffalo_l/w600k_r50.onnx recognition ['None', 3, 112, 112] 127.5 127.5\n",
      "set det-size: (160, 160)\n"
     ]
    }
   ],
   "source": [
    "app = FaceAnalysis(name='buffalo_l')\n",
    "app.prepare(ctx_id=0, det_size=(160, 160))"
   ]
  },
  {
   "cell_type": "markdown",
   "metadata": {},
   "source": [
    "Opening video capture using device camera"
   ]
  },
  {
   "cell_type": "code",
   "execution_count": 9,
   "metadata": {},
   "outputs": [],
   "source": [
    "capture = cv2.VideoCapture(0)"
   ]
  },
  {
   "cell_type": "code",
   "execution_count": null,
   "metadata": {},
   "outputs": [],
   "source": [
    "while True:\n",
    "    ret, frame = capture.read()\n",
    "\n",
    "    faces = app.get(frame)\n",
    "\n",
    "    for face in faces:\n",
    "        bbox = face.bbox.astype(int)\n",
    "        cv2.rectangle(frame, (bbox[0], bbox[1]), (bbox[2], bbox[3]), (0, 255, 0), 2)\n",
    "\n",
    "    cv2.imshow('InsighFace Detecting Live Feed', frame)\n",
    "\n",
    "    if cv2.waitKey(1) & 0xFF == ord('q'):\n",
    "        break\n",
    "\n",
    "capture.release()\n",
    "cv2.destroyAllWindows()\n"
   ]
  },
  {
   "cell_type": "markdown",
   "metadata": {},
   "source": [
    "### **`Accessing Images and Cropping`**"
   ]
  },
  {
   "cell_type": "code",
   "execution_count": 106,
   "metadata": {},
   "outputs": [],
   "source": [
    "data = '/Users/oscaramirmansour/AwakeDrowsyObjDetec/data/New_Images_(for_cropping)'\n",
    "\n",
    "output_folder = '/Users/oscaramirmansour/AwakeDrowsyObjDetec/data/Images_cropped'"
   ]
  },
  {
   "cell_type": "markdown",
   "metadata": {},
   "source": [
    "All image files in folder"
   ]
  },
  {
   "cell_type": "code",
   "execution_count": 107,
   "metadata": {},
   "outputs": [
    {
     "data": {
      "text/plain": [
       "['/Users/oscaramirmansour/AwakeDrowsyObjDetec/data/New_Images_(for_cropping)/drowsy.8457-1.jpg',\n",
       " '/Users/oscaramirmansour/AwakeDrowsyObjDetec/data/New_Images_(for_cropping)/awake.haircuts-for-round-face-2000-dbc9189937e84a028d3ca7be79f072a5.jpg',\n",
       " '/Users/oscaramirmansour/AwakeDrowsyObjDetec/data/New_Images_(for_cropping)/awake.61e0998d023d160907f592c7jpeg.jpg',\n",
       " '/Users/oscaramirmansour/AwakeDrowsyObjDetec/data/New_Images_(for_cropping)/drowsy.istockphoto-621981240-612x612.jpg',\n",
       " '/Users/oscaramirmansour/AwakeDrowsyObjDetec/data/New_Images_(for_cropping)/drowsy.shutterstock_575234722-1100x490.jpg',\n",
       " '/Users/oscaramirmansour/AwakeDrowsyObjDetec/data/New_Images_(for_cropping)/awake.Angelina-Jolie-100x130cm-2013.jpg',\n",
       " '/Users/oscaramirmansour/AwakeDrowsyObjDetec/data/New_Images_(for_cropping)/awake.vf823-pfiffer.jpg',\n",
       " '/Users/oscaramirmansour/AwakeDrowsyObjDetec/data/New_Images_(for_cropping)/drowsy.7dd87506e4b1a7bc343f91c0c97f5436.jpg',\n",
       " '/Users/oscaramirmansour/AwakeDrowsyObjDetec/data/New_Images_(for_cropping)/drowsy.attachment-Drowsy-Driver.jpg',\n",
       " '/Users/oscaramirmansour/AwakeDrowsyObjDetec/data/New_Images_(for_cropping)/drowsy.what-time-is-it-royalty-free-image-1616546095.jpg',\n",
       " '/Users/oscaramirmansour/AwakeDrowsyObjDetec/data/New_Images_(for_cropping)/drowsy.depositphotos_190376900-stock-photo-overworked-young-woman-sitting-workplace.jpg',\n",
       " '/Users/oscaramirmansour/AwakeDrowsyObjDetec/data/New_Images_(for_cropping)/drowsy.depositphotos_603995032-stock-photo-man-napping-his-car.jpg',\n",
       " '/Users/oscaramirmansour/AwakeDrowsyObjDetec/data/New_Images_(for_cropping)/drowsy.35443855-tired-sleepy-young-man-yawning.jpg',\n",
       " '/Users/oscaramirmansour/AwakeDrowsyObjDetec/data/New_Images_(for_cropping)/drowsy.woman-is-sleeping-sofa-feeling-relax-tired-day_39688-3699.jpg',\n",
       " '/Users/oscaramirmansour/AwakeDrowsyObjDetec/data/New_Images_(for_cropping)/awake.photo-1542489136-d03f82c9c91e.jpg',\n",
       " '/Users/oscaramirmansour/AwakeDrowsyObjDetec/data/New_Images_(for_cropping)/awake.Heldiney-homepage.2e16d0ba.fill-768x500.jpegquality-40.jpg',\n",
       " '/Users/oscaramirmansour/AwakeDrowsyObjDetec/data/New_Images_(for_cropping)/drowsy.tired-woman-syndrome-tired-woman-sydnrome.jpg',\n",
       " '/Users/oscaramirmansour/AwakeDrowsyObjDetec/data/New_Images_(for_cropping)/drowsy.drowsy-driving-girl-12.6.17.jpg',\n",
       " '/Users/oscaramirmansour/AwakeDrowsyObjDetec/data/New_Images_(for_cropping)/drowsy.portrait-tired-drowsy.worker-sleeping-car-260nw-472368733.jpg',\n",
       " '/Users/oscaramirmansour/AwakeDrowsyObjDetec/data/New_Images_(for_cropping)/awake.istockphoto-1410538853-170667a.jpg',\n",
       " '/Users/oscaramirmansour/AwakeDrowsyObjDetec/data/New_Images_(for_cropping)/drowsy.6217d5bc775582e77cc92b90_man-sleeping-on-laptop-n.jpg',\n",
       " '/Users/oscaramirmansour/AwakeDrowsyObjDetec/data/New_Images_(for_cropping)/drowsy.sleepy-fatigued-asian-woman-falls-600nw-2317751267.jpg',\n",
       " '/Users/oscaramirmansour/AwakeDrowsyObjDetec/data/New_Images_(for_cropping)/drowsy.discipline-employees-tired-work.jpg',\n",
       " '/Users/oscaramirmansour/AwakeDrowsyObjDetec/data/New_Images_(for_cropping)/awake.gettyimages-629866358-612x612.jpg',\n",
       " '/Users/oscaramirmansour/AwakeDrowsyObjDetec/data/New_Images_(for_cropping)/drowsy.f45wsgdf4drowsy-1.jpg',\n",
       " '/Users/oscaramirmansour/AwakeDrowsyObjDetec/data/New_Images_(for_cropping)/awake.3435tfdsg5twdfimages.jpg',\n",
       " '/Users/oscaramirmansour/AwakeDrowsyObjDetec/data/New_Images_(for_cropping)/drowsy.618abc9cdfbae01bc36d2ce5_hero_advanced_drowsiness.jpg',\n",
       " '/Users/oscaramirmansour/AwakeDrowsyObjDetec/data/New_Images_(for_cropping)/awake.r3w45tegfe2014-07-24-ino.jpg',\n",
       " '/Users/oscaramirmansour/AwakeDrowsyObjDetec/data/New_Images_(for_cropping)/drowsy.Donald-Kaufman-Glenwood-Attorney-drowsy-Driver.jpg',\n",
       " '/Users/oscaramirmansour/AwakeDrowsyObjDetec/data/New_Images_(for_cropping)/drowsy.be-well-fight-off-fatigue.jpg.jpg',\n",
       " '/Users/oscaramirmansour/AwakeDrowsyObjDetec/data/New_Images_(for_cropping)/awake.here-is-why-you-cannot-sleep-right-now-gq-may-2020.jpg',\n",
       " '/Users/oscaramirmansour/AwakeDrowsyObjDetec/data/New_Images_(for_cropping)/awake.4325tergf56hgdfsf23.jpg',\n",
       " '/Users/oscaramirmansour/AwakeDrowsyObjDetec/data/New_Images_(for_cropping)/awake.b5b6be59598fd143a0d71eb61c.jpg',\n",
       " '/Users/oscaramirmansour/AwakeDrowsyObjDetec/data/New_Images_(for_cropping)/awake.21.jpg',\n",
       " '/Users/oscaramirmansour/AwakeDrowsyObjDetec/data/New_Images_(for_cropping)/awake.c573e9df37d0c494c66abc571d35f27c.jpg',\n",
       " '/Users/oscaramirmansour/AwakeDrowsyObjDetec/data/New_Images_(for_cropping)/awake.30b33fe569c104910f9984eca6881393.jpg',\n",
       " '/Users/oscaramirmansour/AwakeDrowsyObjDetec/data/New_Images_(for_cropping)/awake.few3r4rf4wseimages.jpg',\n",
       " '/Users/oscaramirmansour/AwakeDrowsyObjDetec/data/New_Images_(for_cropping)/awake.celebrities-mixed-faces-morphy-me-5eb3bc2bb28b7-png__700.jpg',\n",
       " '/Users/oscaramirmansour/AwakeDrowsyObjDetec/data/New_Images_(for_cropping)/awake.4c7bf673589d39e048629446763e2cfb.jpg',\n",
       " '/Users/oscaramirmansour/AwakeDrowsyObjDetec/data/New_Images_(for_cropping)/awake.DL_u509337_017.jpg',\n",
       " '/Users/oscaramirmansour/AwakeDrowsyObjDetec/data/New_Images_(for_cropping)/awake.front-portrait-woman-beauty-face-260nw-497756323.jpg',\n",
       " '/Users/oscaramirmansour/AwakeDrowsyObjDetec/data/New_Images_(for_cropping)/awake.841-02718897en_Masterfile.jpg',\n",
       " '/Users/oscaramirmansour/AwakeDrowsyObjDetec/data/New_Images_(for_cropping)/drowsy.drowsy-driving-accidents.jpg',\n",
       " '/Users/oscaramirmansour/AwakeDrowsyObjDetec/data/New_Images_(for_cropping)/awake.589dbb873149a101788b4c85.jpg',\n",
       " '/Users/oscaramirmansour/AwakeDrowsyObjDetec/data/New_Images_(for_cropping)/drowsy.1000_F_235302510_HEaMQ8T0aUEQJ84o8nNuQjYrN1PrGClN.jpg',\n",
       " '/Users/oscaramirmansour/AwakeDrowsyObjDetec/data/New_Images_(for_cropping)/awake.quotes-from-my-id-is-gangnam-beauty-kdrama.jpg',\n",
       " '/Users/oscaramirmansour/AwakeDrowsyObjDetec/data/New_Images_(for_cropping)/awake.Erez-Freud-792x1024.jpg',\n",
       " '/Users/oscaramirmansour/AwakeDrowsyObjDetec/data/New_Images_(for_cropping)/drowsy.1000_F_613053602_fM5HbiB7fWxCZLlkHHsKFhVrFemruMop.jpg',\n",
       " '/Users/oscaramirmansour/AwakeDrowsyObjDetec/data/New_Images_(for_cropping)/drowsy.istockphoto-1352871318-612x612.jpg',\n",
       " '/Users/oscaramirmansour/AwakeDrowsyObjDetec/data/New_Images_(for_cropping)/awake.photo-1680506727554-3ba2d9f99129.jpg',\n",
       " '/Users/oscaramirmansour/AwakeDrowsyObjDetec/data/New_Images_(for_cropping)/awake.45wtghf4sfdgvfsf5boy.jpg',\n",
       " '/Users/oscaramirmansour/AwakeDrowsyObjDetec/data/New_Images_(for_cropping)/drowsy.53115435-front-view-of-a-tired-man-sleeping-on-a-couch-at-home.jpg',\n",
       " '/Users/oscaramirmansour/AwakeDrowsyObjDetec/data/New_Images_(for_cropping)/awake.2014-07-24-ino2.jpg',\n",
       " '/Users/oscaramirmansour/AwakeDrowsyObjDetec/data/New_Images_(for_cropping)/awake._129423268_danhill.jpg',\n",
       " '/Users/oscaramirmansour/AwakeDrowsyObjDetec/data/New_Images_(for_cropping)/drowsy.DrAxeAlwaysTired_FB.jpg',\n",
       " '/Users/oscaramirmansour/AwakeDrowsyObjDetec/data/New_Images_(for_cropping)/drowsy.8-What-is-Sleep-Debt-and-What-Role-Does-it-Play-in-Drowsy-Driving.jpg',\n",
       " '/Users/oscaramirmansour/AwakeDrowsyObjDetec/data/New_Images_(for_cropping)/awake.790824c5afa57f53128e38a394a63216.jpg',\n",
       " '/Users/oscaramirmansour/AwakeDrowsyObjDetec/data/New_Images_(for_cropping)/awake.png-clipart-woman-with-black-hair-taking-selfie-face-brown-hair-front-people-faces.jpg',\n",
       " '/Users/oscaramirmansour/AwakeDrowsyObjDetec/data/New_Images_(for_cropping)/awake.dd7c476e32078b6dd8f3ad20c505cd7d.jpg',\n",
       " '/Users/oscaramirmansour/AwakeDrowsyObjDetec/data/New_Images_(for_cropping)/awake.360_F_567876282_iUMkcDC6CgrX8AI5Mh72VQZQqFYzv7aM.jpg',\n",
       " '/Users/oscaramirmansour/AwakeDrowsyObjDetec/data/New_Images_(for_cropping)/awake.istockphoto-519543349-612x612.jpg',\n",
       " '/Users/oscaramirmansour/AwakeDrowsyObjDetec/data/New_Images_(for_cropping)/awake.ruba-ghazal-course-20230521.jpg',\n",
       " '/Users/oscaramirmansour/AwakeDrowsyObjDetec/data/New_Images_(for_cropping)/drowsy.Drowsy-Driver-Accident-Lawyer.jpg',\n",
       " '/Users/oscaramirmansour/AwakeDrowsyObjDetec/data/New_Images_(for_cropping)/awake.Brad-Pitt_1-2000-e8a294b80b034e659785ad813d3f02f2.jpg',\n",
       " '/Users/oscaramirmansour/AwakeDrowsyObjDetec/data/New_Images_(for_cropping)/awake.445db954add23b9709f97e94e6835891.jpg',\n",
       " '/Users/oscaramirmansour/AwakeDrowsyObjDetec/data/New_Images_(for_cropping)/awake.434wefg5ey64w5rdfgimage.jpg',\n",
       " '/Users/oscaramirmansour/AwakeDrowsyObjDetec/data/New_Images_(for_cropping)/drowsy.tired-biz-man1.jpg',\n",
       " '/Users/oscaramirmansour/AwakeDrowsyObjDetec/data/New_Images_(for_cropping)/drowsy.closeup-mature-man-sleeping-while-260nw-1174636609.jpg',\n",
       " '/Users/oscaramirmansour/AwakeDrowsyObjDetec/data/New_Images_(for_cropping)/drowsy.sleepy-asian-girl-freelancer-student-260nw-2141298833.jpg',\n",
       " '/Users/oscaramirmansour/AwakeDrowsyObjDetec/data/New_Images_(for_cropping)/drowsy.iStock-1337844041.jpg',\n",
       " '/Users/oscaramirmansour/AwakeDrowsyObjDetec/data/New_Images_(for_cropping)/drowsy.DrAxeAlwaysTired_Thumbnail.jpg',\n",
       " '/Users/oscaramirmansour/AwakeDrowsyObjDetec/data/New_Images_(for_cropping)/drowsy.GettyImages-482460696.jpg',\n",
       " '/Users/oscaramirmansour/AwakeDrowsyObjDetec/data/New_Images_(for_cropping)/awake.ylannoel-cd132533560b44978aee0dd556c9e7a2.jpg',\n",
       " '/Users/oscaramirmansour/AwakeDrowsyObjDetec/data/New_Images_(for_cropping)/awake.34-5eb3b3f11ca45__700.jpg',\n",
       " '/Users/oscaramirmansour/AwakeDrowsyObjDetec/data/New_Images_(for_cropping)/drowsy.1000_F_274517203_akHwfZSNyHJRD5rKfWScy8JJPFempnwF.jpg',\n",
       " '/Users/oscaramirmansour/AwakeDrowsyObjDetec/data/New_Images_(for_cropping)/awake.Byrdie-Boy-How-to-Determine-Your-Face-ShapeV2-8bb786c1c17a420288dad1cde497cf30.jpg',\n",
       " '/Users/oscaramirmansour/AwakeDrowsyObjDetec/data/New_Images_(for_cropping)/drowsy.3544324drowsydriving.jpg',\n",
       " '/Users/oscaramirmansour/AwakeDrowsyObjDetec/data/New_Images_(for_cropping)/awake.morphy-me-celebrity-face-mashups-15.jpg',\n",
       " '/Users/oscaramirmansour/AwakeDrowsyObjDetec/data/New_Images_(for_cropping)/drowsy.Asleep-in-Car-WL.jpg',\n",
       " '/Users/oscaramirmansour/AwakeDrowsyObjDetec/data/New_Images_(for_cropping)/awake.common-sense1.jpg',\n",
       " '/Users/oscaramirmansour/AwakeDrowsyObjDetec/data/New_Images_(for_cropping)/awake.1_twWCE0zWUKV4v9Jnywic1A.jpg',\n",
       " '/Users/oscaramirmansour/AwakeDrowsyObjDetec/data/New_Images_(for_cropping)/awake.df4vrgfdv3_0848201.jpg',\n",
       " '/Users/oscaramirmansour/AwakeDrowsyObjDetec/data/New_Images_(for_cropping)/drowsy.istockphoto-504241925-612x612.jpg',\n",
       " '/Users/oscaramirmansour/AwakeDrowsyObjDetec/data/New_Images_(for_cropping)/drowsy.istockphoto-1352871318-170667a.jpg',\n",
       " '/Users/oscaramirmansour/AwakeDrowsyObjDetec/data/New_Images_(for_cropping)/drowsy.360_F_293561227_EoFY2CFfqi1XVPnH9yChoU2mzx6YDB6I.jpg',\n",
       " '/Users/oscaramirmansour/AwakeDrowsyObjDetec/data/New_Images_(for_cropping)/drowsy.epositphotos_431037154-stock-photo-a-portrait-of-a-tired.jpg',\n",
       " '/Users/oscaramirmansour/AwakeDrowsyObjDetec/data/New_Images_(for_cropping)/drowsy.8.jpg',\n",
       " '/Users/oscaramirmansour/AwakeDrowsyObjDetec/data/New_Images_(for_cropping)/drowsy.Tired_business_woman.jpg',\n",
       " '/Users/oscaramirmansour/AwakeDrowsyObjDetec/data/New_Images_(for_cropping)/drowsy.sd345egistockphoto-1311193318-640x640.jpg',\n",
       " '/Users/oscaramirmansour/AwakeDrowsyObjDetec/data/New_Images_(for_cropping)/awake.dan-jpsp2-3-_custom-98d6a8ae1900e40a374e983be220f91b7ead7c13-s1100-c50.jpg',\n",
       " '/Users/oscaramirmansour/AwakeDrowsyObjDetec/data/New_Images_(for_cropping)/awake.hong-kong-2543130_960_720.jpg',\n",
       " '/Users/oscaramirmansour/AwakeDrowsyObjDetec/data/New_Images_(for_cropping)/drowsy.quiz-stock-1.jpg',\n",
       " '/Users/oscaramirmansour/AwakeDrowsyObjDetec/data/New_Images_(for_cropping)/awake.Screenshot 2023-11-30 at 21.00.02.jpg',\n",
       " '/Users/oscaramirmansour/AwakeDrowsyObjDetec/data/New_Images_(for_cropping)/awake.g43443efsdgdsfirl.jpg',\n",
       " '/Users/oscaramirmansour/AwakeDrowsyObjDetec/data/New_Images_(for_cropping)/drowsy.female-laptop-tired-nap-napping-1296x728-header.jpg']"
      ]
     },
     "execution_count": 107,
     "metadata": {},
     "output_type": "execute_result"
    }
   ],
   "source": [
    "images = [os.path.join(data, filename) for filename in os.listdir(data) if filename.endswith('.jpg')]\n",
    "\n",
    "images"
   ]
  },
  {
   "cell_type": "markdown",
   "metadata": {},
   "source": [
    "Dividing above images into `awake` vs. `drowsy`"
   ]
  },
  {
   "cell_type": "code",
   "execution_count": 108,
   "metadata": {},
   "outputs": [
    {
     "name": "stdout",
     "output_type": "stream",
     "text": [
      "Number of awake images: 49\n",
      "Number of drowsy images: 46\n"
     ]
    }
   ],
   "source": [
    "awake_imgs = [img_path for img_path in images if os.path.basename(img_path).startswith('awake')]\n",
    "\n",
    "drowsy_imgs = [img_path for img_path in images if os.path.basename(img_path).startswith('drowsy')]\n",
    "\n",
    "print(f'Number of awake images: {len(awake_imgs)}')\n",
    "\n",
    "print(f'Number of drowsy images: {len(drowsy_imgs)}')"
   ]
  },
  {
   "cell_type": "code",
   "execution_count": 109,
   "metadata": {},
   "outputs": [
    {
     "name": "stdout",
     "output_type": "stream",
     "text": [
      "Image: /Users/oscaramirmansour/AwakeDrowsyObjDetec/data/New_Images_(for_cropping)/awake.haircuts-for-round-face-2000-dbc9189937e84a028d3ca7be79f072a5.jpg\n",
      "Image: /Users/oscaramirmansour/AwakeDrowsyObjDetec/data/New_Images_(for_cropping)/awake.61e0998d023d160907f592c7jpeg.jpg\n",
      "Image: /Users/oscaramirmansour/AwakeDrowsyObjDetec/data/New_Images_(for_cropping)/awake.Angelina-Jolie-100x130cm-2013.jpg\n",
      "Image: /Users/oscaramirmansour/AwakeDrowsyObjDetec/data/New_Images_(for_cropping)/awake.vf823-pfiffer.jpg\n",
      "Image: /Users/oscaramirmansour/AwakeDrowsyObjDetec/data/New_Images_(for_cropping)/awake.photo-1542489136-d03f82c9c91e.jpg\n",
      "Image: /Users/oscaramirmansour/AwakeDrowsyObjDetec/data/New_Images_(for_cropping)/awake.Heldiney-homepage.2e16d0ba.fill-768x500.jpegquality-40.jpg\n",
      "Image: /Users/oscaramirmansour/AwakeDrowsyObjDetec/data/New_Images_(for_cropping)/awake.istockphoto-1410538853-170667a.jpg\n",
      "Image: /Users/oscaramirmansour/AwakeDrowsyObjDetec/data/New_Images_(for_cropping)/awake.gettyimages-629866358-612x612.jpg\n",
      "Image: /Users/oscaramirmansour/AwakeDrowsyObjDetec/data/New_Images_(for_cropping)/awake.3435tfdsg5twdfimages.jpg\n",
      "No face detected in /Users/oscaramirmansour/AwakeDrowsyObjDetec/data/New_Images_(for_cropping)/awake.3435tfdsg5twdfimages.jpg\n",
      "Image: /Users/oscaramirmansour/AwakeDrowsyObjDetec/data/New_Images_(for_cropping)/awake.r3w45tegfe2014-07-24-ino.jpg\n",
      "Image: /Users/oscaramirmansour/AwakeDrowsyObjDetec/data/New_Images_(for_cropping)/awake.here-is-why-you-cannot-sleep-right-now-gq-may-2020.jpg\n",
      "Image: /Users/oscaramirmansour/AwakeDrowsyObjDetec/data/New_Images_(for_cropping)/awake.4325tergf56hgdfsf23.jpg\n",
      "Image: /Users/oscaramirmansour/AwakeDrowsyObjDetec/data/New_Images_(for_cropping)/awake.b5b6be59598fd143a0d71eb61c.jpg\n",
      "Image: /Users/oscaramirmansour/AwakeDrowsyObjDetec/data/New_Images_(for_cropping)/awake.21.jpg\n",
      "Image: /Users/oscaramirmansour/AwakeDrowsyObjDetec/data/New_Images_(for_cropping)/awake.c573e9df37d0c494c66abc571d35f27c.jpg\n",
      "Image: /Users/oscaramirmansour/AwakeDrowsyObjDetec/data/New_Images_(for_cropping)/awake.30b33fe569c104910f9984eca6881393.jpg\n",
      "Image: /Users/oscaramirmansour/AwakeDrowsyObjDetec/data/New_Images_(for_cropping)/awake.few3r4rf4wseimages.jpg\n",
      "No face detected in /Users/oscaramirmansour/AwakeDrowsyObjDetec/data/New_Images_(for_cropping)/awake.few3r4rf4wseimages.jpg\n",
      "Image: /Users/oscaramirmansour/AwakeDrowsyObjDetec/data/New_Images_(for_cropping)/awake.celebrities-mixed-faces-morphy-me-5eb3bc2bb28b7-png__700.jpg\n",
      "Image: /Users/oscaramirmansour/AwakeDrowsyObjDetec/data/New_Images_(for_cropping)/awake.4c7bf673589d39e048629446763e2cfb.jpg\n",
      "Image: /Users/oscaramirmansour/AwakeDrowsyObjDetec/data/New_Images_(for_cropping)/awake.DL_u509337_017.jpg\n",
      "Image: /Users/oscaramirmansour/AwakeDrowsyObjDetec/data/New_Images_(for_cropping)/awake.front-portrait-woman-beauty-face-260nw-497756323.jpg\n",
      "Image: /Users/oscaramirmansour/AwakeDrowsyObjDetec/data/New_Images_(for_cropping)/awake.841-02718897en_Masterfile.jpg\n",
      "Image: /Users/oscaramirmansour/AwakeDrowsyObjDetec/data/New_Images_(for_cropping)/awake.589dbb873149a101788b4c85.jpg\n",
      "Image: /Users/oscaramirmansour/AwakeDrowsyObjDetec/data/New_Images_(for_cropping)/awake.quotes-from-my-id-is-gangnam-beauty-kdrama.jpg\n",
      "Image: /Users/oscaramirmansour/AwakeDrowsyObjDetec/data/New_Images_(for_cropping)/awake.Erez-Freud-792x1024.jpg\n",
      "Image: /Users/oscaramirmansour/AwakeDrowsyObjDetec/data/New_Images_(for_cropping)/awake.photo-1680506727554-3ba2d9f99129.jpg\n",
      "Image: /Users/oscaramirmansour/AwakeDrowsyObjDetec/data/New_Images_(for_cropping)/awake.45wtghf4sfdgvfsf5boy.jpg\n",
      "Image: /Users/oscaramirmansour/AwakeDrowsyObjDetec/data/New_Images_(for_cropping)/awake.2014-07-24-ino2.jpg\n",
      "Image: /Users/oscaramirmansour/AwakeDrowsyObjDetec/data/New_Images_(for_cropping)/awake._129423268_danhill.jpg\n",
      "Image: /Users/oscaramirmansour/AwakeDrowsyObjDetec/data/New_Images_(for_cropping)/awake.790824c5afa57f53128e38a394a63216.jpg\n",
      "Image: /Users/oscaramirmansour/AwakeDrowsyObjDetec/data/New_Images_(for_cropping)/awake.png-clipart-woman-with-black-hair-taking-selfie-face-brown-hair-front-people-faces.jpg\n",
      "Image: /Users/oscaramirmansour/AwakeDrowsyObjDetec/data/New_Images_(for_cropping)/awake.dd7c476e32078b6dd8f3ad20c505cd7d.jpg\n",
      "Image: /Users/oscaramirmansour/AwakeDrowsyObjDetec/data/New_Images_(for_cropping)/awake.360_F_567876282_iUMkcDC6CgrX8AI5Mh72VQZQqFYzv7aM.jpg\n",
      "Image: /Users/oscaramirmansour/AwakeDrowsyObjDetec/data/New_Images_(for_cropping)/awake.istockphoto-519543349-612x612.jpg\n",
      "Image: /Users/oscaramirmansour/AwakeDrowsyObjDetec/data/New_Images_(for_cropping)/awake.ruba-ghazal-course-20230521.jpg\n",
      "Image: /Users/oscaramirmansour/AwakeDrowsyObjDetec/data/New_Images_(for_cropping)/awake.Brad-Pitt_1-2000-e8a294b80b034e659785ad813d3f02f2.jpg\n",
      "Image: /Users/oscaramirmansour/AwakeDrowsyObjDetec/data/New_Images_(for_cropping)/awake.445db954add23b9709f97e94e6835891.jpg\n",
      "Image: /Users/oscaramirmansour/AwakeDrowsyObjDetec/data/New_Images_(for_cropping)/awake.434wefg5ey64w5rdfgimage.jpg\n",
      "Image: /Users/oscaramirmansour/AwakeDrowsyObjDetec/data/New_Images_(for_cropping)/awake.ylannoel-cd132533560b44978aee0dd556c9e7a2.jpg\n",
      "Image: /Users/oscaramirmansour/AwakeDrowsyObjDetec/data/New_Images_(for_cropping)/awake.34-5eb3b3f11ca45__700.jpg\n",
      "Image: /Users/oscaramirmansour/AwakeDrowsyObjDetec/data/New_Images_(for_cropping)/awake.Byrdie-Boy-How-to-Determine-Your-Face-ShapeV2-8bb786c1c17a420288dad1cde497cf30.jpg\n",
      "Image: /Users/oscaramirmansour/AwakeDrowsyObjDetec/data/New_Images_(for_cropping)/awake.morphy-me-celebrity-face-mashups-15.jpg\n",
      "Image: /Users/oscaramirmansour/AwakeDrowsyObjDetec/data/New_Images_(for_cropping)/awake.common-sense1.jpg\n",
      "Image: /Users/oscaramirmansour/AwakeDrowsyObjDetec/data/New_Images_(for_cropping)/awake.1_twWCE0zWUKV4v9Jnywic1A.jpg\n",
      "Image: /Users/oscaramirmansour/AwakeDrowsyObjDetec/data/New_Images_(for_cropping)/awake.df4vrgfdv3_0848201.jpg\n",
      "Image: /Users/oscaramirmansour/AwakeDrowsyObjDetec/data/New_Images_(for_cropping)/awake.dan-jpsp2-3-_custom-98d6a8ae1900e40a374e983be220f91b7ead7c13-s1100-c50.jpg\n",
      "Image: /Users/oscaramirmansour/AwakeDrowsyObjDetec/data/New_Images_(for_cropping)/awake.hong-kong-2543130_960_720.jpg\n",
      "Image: /Users/oscaramirmansour/AwakeDrowsyObjDetec/data/New_Images_(for_cropping)/awake.Screenshot 2023-11-30 at 21.00.02.jpg\n",
      "No face detected in /Users/oscaramirmansour/AwakeDrowsyObjDetec/data/New_Images_(for_cropping)/awake.Screenshot 2023-11-30 at 21.00.02.jpg\n",
      "Image: /Users/oscaramirmansour/AwakeDrowsyObjDetec/data/New_Images_(for_cropping)/awake.g43443efsdgdsfirl.jpg\n",
      "Image: /Users/oscaramirmansour/AwakeDrowsyObjDetec/data/New_Images_(for_cropping)/drowsy.8457-1.jpg\n",
      "Image: /Users/oscaramirmansour/AwakeDrowsyObjDetec/data/New_Images_(for_cropping)/drowsy.istockphoto-621981240-612x612.jpg\n",
      "Image: /Users/oscaramirmansour/AwakeDrowsyObjDetec/data/New_Images_(for_cropping)/drowsy.shutterstock_575234722-1100x490.jpg\n",
      "Image: /Users/oscaramirmansour/AwakeDrowsyObjDetec/data/New_Images_(for_cropping)/drowsy.7dd87506e4b1a7bc343f91c0c97f5436.jpg\n",
      "Image: /Users/oscaramirmansour/AwakeDrowsyObjDetec/data/New_Images_(for_cropping)/drowsy.attachment-Drowsy-Driver.jpg\n",
      "Image: /Users/oscaramirmansour/AwakeDrowsyObjDetec/data/New_Images_(for_cropping)/drowsy.what-time-is-it-royalty-free-image-1616546095.jpg\n",
      "Image: /Users/oscaramirmansour/AwakeDrowsyObjDetec/data/New_Images_(for_cropping)/drowsy.depositphotos_190376900-stock-photo-overworked-young-woman-sitting-workplace.jpg\n",
      "Image: /Users/oscaramirmansour/AwakeDrowsyObjDetec/data/New_Images_(for_cropping)/drowsy.depositphotos_603995032-stock-photo-man-napping-his-car.jpg\n",
      "Image: /Users/oscaramirmansour/AwakeDrowsyObjDetec/data/New_Images_(for_cropping)/drowsy.35443855-tired-sleepy-young-man-yawning.jpg\n",
      "Image: /Users/oscaramirmansour/AwakeDrowsyObjDetec/data/New_Images_(for_cropping)/drowsy.woman-is-sleeping-sofa-feeling-relax-tired-day_39688-3699.jpg\n",
      "Image: /Users/oscaramirmansour/AwakeDrowsyObjDetec/data/New_Images_(for_cropping)/drowsy.tired-woman-syndrome-tired-woman-sydnrome.jpg\n",
      "Image: /Users/oscaramirmansour/AwakeDrowsyObjDetec/data/New_Images_(for_cropping)/drowsy.drowsy-driving-girl-12.6.17.jpg\n",
      "Image: /Users/oscaramirmansour/AwakeDrowsyObjDetec/data/New_Images_(for_cropping)/drowsy.portrait-tired-drowsy.worker-sleeping-car-260nw-472368733.jpg\n",
      "Image: /Users/oscaramirmansour/AwakeDrowsyObjDetec/data/New_Images_(for_cropping)/drowsy.6217d5bc775582e77cc92b90_man-sleeping-on-laptop-n.jpg\n",
      "Image: /Users/oscaramirmansour/AwakeDrowsyObjDetec/data/New_Images_(for_cropping)/drowsy.sleepy-fatigued-asian-woman-falls-600nw-2317751267.jpg\n",
      "Image: /Users/oscaramirmansour/AwakeDrowsyObjDetec/data/New_Images_(for_cropping)/drowsy.discipline-employees-tired-work.jpg\n",
      "Image: /Users/oscaramirmansour/AwakeDrowsyObjDetec/data/New_Images_(for_cropping)/drowsy.f45wsgdf4drowsy-1.jpg\n",
      "Image: /Users/oscaramirmansour/AwakeDrowsyObjDetec/data/New_Images_(for_cropping)/drowsy.618abc9cdfbae01bc36d2ce5_hero_advanced_drowsiness.jpg\n",
      "Image: /Users/oscaramirmansour/AwakeDrowsyObjDetec/data/New_Images_(for_cropping)/drowsy.Donald-Kaufman-Glenwood-Attorney-drowsy-Driver.jpg\n",
      "Image: /Users/oscaramirmansour/AwakeDrowsyObjDetec/data/New_Images_(for_cropping)/drowsy.be-well-fight-off-fatigue.jpg.jpg\n",
      "Image: /Users/oscaramirmansour/AwakeDrowsyObjDetec/data/New_Images_(for_cropping)/drowsy.drowsy-driving-accidents.jpg\n",
      "Image: /Users/oscaramirmansour/AwakeDrowsyObjDetec/data/New_Images_(for_cropping)/drowsy.1000_F_235302510_HEaMQ8T0aUEQJ84o8nNuQjYrN1PrGClN.jpg\n",
      "Image: /Users/oscaramirmansour/AwakeDrowsyObjDetec/data/New_Images_(for_cropping)/drowsy.1000_F_613053602_fM5HbiB7fWxCZLlkHHsKFhVrFemruMop.jpg\n",
      "Image: /Users/oscaramirmansour/AwakeDrowsyObjDetec/data/New_Images_(for_cropping)/drowsy.istockphoto-1352871318-612x612.jpg\n",
      "Image: /Users/oscaramirmansour/AwakeDrowsyObjDetec/data/New_Images_(for_cropping)/drowsy.53115435-front-view-of-a-tired-man-sleeping-on-a-couch-at-home.jpg\n",
      "Image: /Users/oscaramirmansour/AwakeDrowsyObjDetec/data/New_Images_(for_cropping)/drowsy.DrAxeAlwaysTired_FB.jpg\n",
      "Image: /Users/oscaramirmansour/AwakeDrowsyObjDetec/data/New_Images_(for_cropping)/drowsy.8-What-is-Sleep-Debt-and-What-Role-Does-it-Play-in-Drowsy-Driving.jpg\n",
      "Image: /Users/oscaramirmansour/AwakeDrowsyObjDetec/data/New_Images_(for_cropping)/drowsy.Drowsy-Driver-Accident-Lawyer.jpg\n",
      "Image: /Users/oscaramirmansour/AwakeDrowsyObjDetec/data/New_Images_(for_cropping)/drowsy.tired-biz-man1.jpg\n",
      "Image: /Users/oscaramirmansour/AwakeDrowsyObjDetec/data/New_Images_(for_cropping)/drowsy.closeup-mature-man-sleeping-while-260nw-1174636609.jpg\n",
      "Image: /Users/oscaramirmansour/AwakeDrowsyObjDetec/data/New_Images_(for_cropping)/drowsy.sleepy-asian-girl-freelancer-student-260nw-2141298833.jpg\n",
      "Image: /Users/oscaramirmansour/AwakeDrowsyObjDetec/data/New_Images_(for_cropping)/drowsy.iStock-1337844041.jpg\n",
      "Image: /Users/oscaramirmansour/AwakeDrowsyObjDetec/data/New_Images_(for_cropping)/drowsy.DrAxeAlwaysTired_Thumbnail.jpg\n",
      "Image: /Users/oscaramirmansour/AwakeDrowsyObjDetec/data/New_Images_(for_cropping)/drowsy.GettyImages-482460696.jpg\n",
      "Image: /Users/oscaramirmansour/AwakeDrowsyObjDetec/data/New_Images_(for_cropping)/drowsy.1000_F_274517203_akHwfZSNyHJRD5rKfWScy8JJPFempnwF.jpg\n",
      "Image: /Users/oscaramirmansour/AwakeDrowsyObjDetec/data/New_Images_(for_cropping)/drowsy.3544324drowsydriving.jpg\n",
      "Image: /Users/oscaramirmansour/AwakeDrowsyObjDetec/data/New_Images_(for_cropping)/drowsy.Asleep-in-Car-WL.jpg\n",
      "Image: /Users/oscaramirmansour/AwakeDrowsyObjDetec/data/New_Images_(for_cropping)/drowsy.istockphoto-504241925-612x612.jpg\n",
      "Image: /Users/oscaramirmansour/AwakeDrowsyObjDetec/data/New_Images_(for_cropping)/drowsy.istockphoto-1352871318-170667a.jpg\n",
      "Image: /Users/oscaramirmansour/AwakeDrowsyObjDetec/data/New_Images_(for_cropping)/drowsy.360_F_293561227_EoFY2CFfqi1XVPnH9yChoU2mzx6YDB6I.jpg\n",
      "Image: /Users/oscaramirmansour/AwakeDrowsyObjDetec/data/New_Images_(for_cropping)/drowsy.epositphotos_431037154-stock-photo-a-portrait-of-a-tired.jpg\n",
      "Image: /Users/oscaramirmansour/AwakeDrowsyObjDetec/data/New_Images_(for_cropping)/drowsy.8.jpg\n",
      "Image: /Users/oscaramirmansour/AwakeDrowsyObjDetec/data/New_Images_(for_cropping)/drowsy.Tired_business_woman.jpg\n",
      "Image: /Users/oscaramirmansour/AwakeDrowsyObjDetec/data/New_Images_(for_cropping)/drowsy.sd345egistockphoto-1311193318-640x640.jpg\n",
      "Image: /Users/oscaramirmansour/AwakeDrowsyObjDetec/data/New_Images_(for_cropping)/drowsy.quiz-stock-1.jpg\n",
      "Image: /Users/oscaramirmansour/AwakeDrowsyObjDetec/data/New_Images_(for_cropping)/drowsy.female-laptop-tired-nap-napping-1296x728-header.jpg\n"
     ]
    }
   ],
   "source": [
    "for img_path in awake_imgs + drowsy_imgs:\n",
    "    print(f'Image: {img_path}')\n",
    "    \n",
    "    try:\n",
    "        img = cv2.imread(img_path)\n",
    "        output_path = os.path.join(output_folder, os.path.basename(img_path))\n",
    "        \n",
    "        faces = app.get(img)\n",
    "\n",
    "        if len(faces) > 0:\n",
    "            bbox = faces[0]['bbox']\n",
    "            # was getting error: `TypeError: slice indices must be integers or None or have an __index__ method`\n",
    "            # so going to convert bounding box coordinates to int\n",
    "            bbox = [int(coord) for coord in bbox]\n",
    "            img_face = img[bbox[1]:bbox[3], bbox[0]:bbox[2], :]\n",
    "\n",
    "            # saving cropped images to output folder: 'Images_cropped'\n",
    "            output_path = os.path.join(output_folder, os.path.basename(img_path))\n",
    "            cv2.imwrite(output_path, img_face)\n",
    "        else:  \n",
    "            print(f'No face detected in {img_path}')\n",
    "    except:\n",
    "        pass"
   ]
  },
  {
   "cell_type": "code",
   "execution_count": null,
   "metadata": {},
   "outputs": [],
   "source": []
  }
 ],
 "metadata": {
  "kernelspec": {
   "display_name": "Python 3",
   "language": "python",
   "name": "python3"
  },
  "language_info": {
   "codemirror_mode": {
    "name": "ipython",
    "version": 3
   },
   "file_extension": ".py",
   "mimetype": "text/x-python",
   "name": "python",
   "nbconvert_exporter": "python",
   "pygments_lexer": "ipython3",
   "version": "3.11.6"
  }
 },
 "nbformat": 4,
 "nbformat_minor": 2
}
